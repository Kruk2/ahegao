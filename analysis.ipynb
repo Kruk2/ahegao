{
 "cells": [
  {
   "cell_type": "code",
   "execution_count": 1,
   "metadata": {},
   "outputs": [],
   "source": [
    "import pandas as pd\n",
    "import numpy as np\n",
    "import matplotlib.pyplot as plt\n",
    "import matplotlib.dates as mdates\n",
    "from matplotlib.ticker import FuncFormatter\n",
    "import sqlite3\n",
    "import sys\n",
    "import os.path as osp\n",
    "sys.path.append(osp.abspath('musically_tiktok_api_python'))\n",
    "from crawl_videos_by_tag import get_ahegao_hashtags, get_hitormiss_hashtags"
   ]
  },
  {
   "cell_type": "code",
   "execution_count": 2,
   "metadata": {},
   "outputs": [
    {
     "data": {
      "text/html": [
       "<style>.container { width:70% !important; }</style>"
      ],
      "text/plain": [
       "<IPython.core.display.HTML object>"
      ]
     },
     "metadata": {},
     "output_type": "display_data"
    }
   ],
   "source": [
    "from IPython.core.display import display, HTML\n",
    "display(HTML(\"<style>.container { width:70% !important; }</style>\"))"
   ]
  },
  {
   "cell_type": "code",
   "execution_count": 3,
   "metadata": {},
   "outputs": [],
   "source": [
    "import pandas as pd\n",
    "# Create your connection.\n",
    "conn = sqlite3.connect('hashtags.db')\n",
    "\n",
    "videos = pd.read_sql_query(\"SELECT * FROM videos\", conn)\n",
    "videos['create_time'] = pd.to_datetime(videos['create_time'], unit='s')"
   ]
  },
  {
   "cell_type": "code",
   "execution_count": 4,
   "metadata": {},
   "outputs": [
    {
     "data": {
      "text/html": [
       "<div>\n",
       "<style scoped>\n",
       "    .dataframe tbody tr th:only-of-type {\n",
       "        vertical-align: middle;\n",
       "    }\n",
       "\n",
       "    .dataframe tbody tr th {\n",
       "        vertical-align: top;\n",
       "    }\n",
       "\n",
       "    .dataframe thead th {\n",
       "        text-align: right;\n",
       "    }\n",
       "</style>\n",
       "<table border=\"1\" class=\"dataframe\">\n",
       "  <thead>\n",
       "    <tr style=\"text-align: right;\">\n",
       "      <th></th>\n",
       "      <th>downloaded</th>\n",
       "    </tr>\n",
       "  </thead>\n",
       "  <tbody>\n",
       "    <tr>\n",
       "      <th>count</th>\n",
       "      <td>8832.0</td>\n",
       "    </tr>\n",
       "    <tr>\n",
       "      <th>mean</th>\n",
       "      <td>0.0</td>\n",
       "    </tr>\n",
       "    <tr>\n",
       "      <th>std</th>\n",
       "      <td>0.0</td>\n",
       "    </tr>\n",
       "    <tr>\n",
       "      <th>min</th>\n",
       "      <td>0.0</td>\n",
       "    </tr>\n",
       "    <tr>\n",
       "      <th>25%</th>\n",
       "      <td>0.0</td>\n",
       "    </tr>\n",
       "    <tr>\n",
       "      <th>50%</th>\n",
       "      <td>0.0</td>\n",
       "    </tr>\n",
       "    <tr>\n",
       "      <th>75%</th>\n",
       "      <td>0.0</td>\n",
       "    </tr>\n",
       "    <tr>\n",
       "      <th>max</th>\n",
       "      <td>0.0</td>\n",
       "    </tr>\n",
       "  </tbody>\n",
       "</table>\n",
       "</div>"
      ],
      "text/plain": [
       "       downloaded\n",
       "count      8832.0\n",
       "mean          0.0\n",
       "std           0.0\n",
       "min           0.0\n",
       "25%           0.0\n",
       "50%           0.0\n",
       "75%           0.0\n",
       "max           0.0"
      ]
     },
     "execution_count": 4,
     "metadata": {},
     "output_type": "execute_result"
    }
   ],
   "source": [
    "videos.describe()"
   ]
  },
  {
   "cell_type": "code",
   "execution_count": 5,
   "metadata": {},
   "outputs": [
    {
     "data": {
      "text/html": [
       "<div>\n",
       "<style scoped>\n",
       "    .dataframe tbody tr th:only-of-type {\n",
       "        vertical-align: middle;\n",
       "    }\n",
       "\n",
       "    .dataframe tbody tr th {\n",
       "        vertical-align: top;\n",
       "    }\n",
       "\n",
       "    .dataframe thead th {\n",
       "        text-align: right;\n",
       "    }\n",
       "</style>\n",
       "<table border=\"1\" class=\"dataframe\">\n",
       "  <thead>\n",
       "    <tr style=\"text-align: right;\">\n",
       "      <th></th>\n",
       "      <th>tag_id</th>\n",
       "      <th>share_url</th>\n",
       "      <th>downloaded</th>\n",
       "      <th>share_id</th>\n",
       "      <th>download_url</th>\n",
       "      <th>download_id</th>\n",
       "      <th>create_time</th>\n",
       "    </tr>\n",
       "  </thead>\n",
       "  <tbody>\n",
       "    <tr>\n",
       "      <th>0</th>\n",
       "      <td>2128154</td>\n",
       "      <td>https://www.musical.ly/v/6647420336612576517.html</td>\n",
       "      <td>0</td>\n",
       "      <td>6647420336612576517</td>\n",
       "      <td>https://api2.musical.ly/aweme/v1/play/?video_i...</td>\n",
       "      <td>v09044470000bh060nnho6fgm2m56rg0</td>\n",
       "      <td>2019-01-17 11:05:56</td>\n",
       "    </tr>\n",
       "    <tr>\n",
       "      <th>1</th>\n",
       "      <td>2128154</td>\n",
       "      <td>https://www.musical.ly/v/6640466162972888326.html</td>\n",
       "      <td>0</td>\n",
       "      <td>6640466162972888326</td>\n",
       "      <td>https://api2.musical.ly/aweme/v1/play/?video_i...</td>\n",
       "      <td>v09044690000bgjqnjjdjls1kmdlbrg0</td>\n",
       "      <td>2018-12-29 17:20:11</td>\n",
       "    </tr>\n",
       "    <tr>\n",
       "      <th>2</th>\n",
       "      <td>2128154</td>\n",
       "      <td>https://www.musical.ly/v/6645991748881370374.html</td>\n",
       "      <td>0</td>\n",
       "      <td>6645991748881370374</td>\n",
       "      <td>https://api2.musical.ly/aweme/v1/play/?video_i...</td>\n",
       "      <td>v09044e50000bgtkseivu19bh8vddup0</td>\n",
       "      <td>2019-01-13 14:42:17</td>\n",
       "    </tr>\n",
       "    <tr>\n",
       "      <th>3</th>\n",
       "      <td>2128154</td>\n",
       "      <td>https://www.musical.ly/v/6618635565635996933.html</td>\n",
       "      <td>0</td>\n",
       "      <td>6618635565635996933</td>\n",
       "      <td>https://api2.musical.ly/aweme/v1/play/?video_i...</td>\n",
       "      <td>v09044220000bfd1rps108gom3cabhfg</td>\n",
       "      <td>2018-10-31 21:26:19</td>\n",
       "    </tr>\n",
       "    <tr>\n",
       "      <th>4</th>\n",
       "      <td>2128154</td>\n",
       "      <td>https://www.musical.ly/v/6626762972934966533.html</td>\n",
       "      <td>0</td>\n",
       "      <td>6626762972934966533</td>\n",
       "      <td>https://api2.musical.ly/aweme/v1/play/?video_i...</td>\n",
       "      <td>v09044350000bfrfriajqrogji3tsmt0</td>\n",
       "      <td>2018-11-22 19:04:48</td>\n",
       "    </tr>\n",
       "  </tbody>\n",
       "</table>\n",
       "</div>"
      ],
      "text/plain": [
       "    tag_id                                          share_url  downloaded  \\\n",
       "0  2128154  https://www.musical.ly/v/6647420336612576517.html           0   \n",
       "1  2128154  https://www.musical.ly/v/6640466162972888326.html           0   \n",
       "2  2128154  https://www.musical.ly/v/6645991748881370374.html           0   \n",
       "3  2128154  https://www.musical.ly/v/6618635565635996933.html           0   \n",
       "4  2128154  https://www.musical.ly/v/6626762972934966533.html           0   \n",
       "\n",
       "              share_id                                       download_url  \\\n",
       "0  6647420336612576517  https://api2.musical.ly/aweme/v1/play/?video_i...   \n",
       "1  6640466162972888326  https://api2.musical.ly/aweme/v1/play/?video_i...   \n",
       "2  6645991748881370374  https://api2.musical.ly/aweme/v1/play/?video_i...   \n",
       "3  6618635565635996933  https://api2.musical.ly/aweme/v1/play/?video_i...   \n",
       "4  6626762972934966533  https://api2.musical.ly/aweme/v1/play/?video_i...   \n",
       "\n",
       "                        download_id         create_time  \n",
       "0  v09044470000bh060nnho6fgm2m56rg0 2019-01-17 11:05:56  \n",
       "1  v09044690000bgjqnjjdjls1kmdlbrg0 2018-12-29 17:20:11  \n",
       "2  v09044e50000bgtkseivu19bh8vddup0 2019-01-13 14:42:17  \n",
       "3  v09044220000bfd1rps108gom3cabhfg 2018-10-31 21:26:19  \n",
       "4  v09044350000bfrfriajqrogji3tsmt0 2018-11-22 19:04:48  "
      ]
     },
     "execution_count": 5,
     "metadata": {},
     "output_type": "execute_result"
    }
   ],
   "source": [
    "videos.head()"
   ]
  },
  {
   "cell_type": "code",
   "execution_count": 6,
   "metadata": {},
   "outputs": [
    {
     "data": {
      "text/plain": [
       "Index(['tag_id', 'share_url', 'downloaded', 'share_id', 'download_url',\n",
       "       'download_id', 'create_time'],\n",
       "      dtype='object')"
      ]
     },
     "execution_count": 6,
     "metadata": {},
     "output_type": "execute_result"
    }
   ],
   "source": [
    "videos.columns"
   ]
  },
  {
   "cell_type": "code",
   "execution_count": 7,
   "metadata": {},
   "outputs": [],
   "source": [
    "videos_ahegao = videos[videos['tag_id'].isin(get_ahegao_hashtags().keys())]\n",
    "videos_hitormiss = videos[videos['tag_id'].isin(get_hitormiss_hashtags().keys())]\n"
   ]
  },
  {
   "cell_type": "code",
   "execution_count": 8,
   "metadata": {},
   "outputs": [
    {
     "name": "stderr",
     "output_type": "stream",
     "text": [
      "C:\\ProgramData\\Anaconda3\\lib\\site-packages\\pandas\\plotting\\_converter.py:129: FutureWarning: Using an implicitly registered datetime converter for a matplotlib plotting method. The converter was registered by pandas on import. Future versions of pandas will require you to explicitly register matplotlib converters.\n",
      "\n",
      "To register the converters:\n",
      "\t>>> from pandas.plotting import register_matplotlib_converters\n",
      "\t>>> register_matplotlib_converters()\n",
      "  warnings.warn(msg, FutureWarning)\n"
     ]
    },
    {
     "data": {
      "text/plain": [
       "<matplotlib.axes._subplots.AxesSubplot at 0x24be9622710>"
      ]
     },
     "execution_count": 8,
     "metadata": {},
     "output_type": "execute_result"
    },
    {
     "data": {
      "image/png": "[encoded data removed]",
      "text/plain": [
       "<Figure size 1296x576 with 1 Axes>"
      ]
     },
     "metadata": {
      "needs_background": "light"
     },
     "output_type": "display_data"
    }
   ],
   "source": [
    "plt.figure(figsize=(18, 8))\n",
    "videos_ahegao['create_time'].hist()"
   ]
  },
  {
   "cell_type": "code",
   "execution_count": 9,
   "metadata": {},
   "outputs": [
    {
     "data": {
      "text/plain": [
       "<matplotlib.axes._subplots.AxesSubplot at 0x24be9c43240>"
      ]
     },
     "execution_count": 9,
     "metadata": {},
     "output_type": "execute_result"
    },
    {
     "data": {
      "image/png": "[encoded data removed]",
      "text/plain": [
       "<Figure size 1296x576 with 1 Axes>"
      ]
     },
     "metadata": {
      "needs_background": "light"
     },
     "output_type": "display_data"
    }
   ],
   "source": [
    "plt.figure(figsize=(18, 8))\n",
    "videos_ahegao['create_time'].hist(log=True)"
   ]
  },
  {
   "cell_type": "code",
   "execution_count": 10,
   "metadata": {
    "scrolled": true
   },
   "outputs": [],
   "source": [
    "videos_ahegao = videos_ahegao.set_index('create_time')\n",
    "videos_hitormiss = videos_hitormiss.set_index('create_time')"
   ]
  },
  {
   "cell_type": "code",
   "execution_count": 11,
   "metadata": {
    "scrolled": false
   },
   "outputs": [
    {
     "data": {
      "image/png": "[encoded data removed]",
      "text/plain": [
       "<Figure size 1296x576 with 1 Axes>"
      ]
     },
     "metadata": {
      "needs_background": "light"
     },
     "output_type": "display_data"
    }
   ],
   "source": [
    "plt.figure(figsize=(18, 8))\n",
    "created_hist = videos_ahegao.resample('M')['share_id'].count()\n",
    "created_hist.plot(kind='bar')\n",
    "plt.gca().xaxis.set_major_formatter(FuncFormatter(lambda y, _: created_hist.index[y].strftime('%Y-%m')))\n",
    "plt.savefig('time-histogram.png')\n",
    "plt.show()"
   ]
  },
  {
   "cell_type": "code",
   "execution_count": 12,
   "metadata": {},
   "outputs": [
    {
     "data": {
      "image/png": "[encoded data removed]",
      "text/plain": [
       "<Figure size 1296x576 with 1 Axes>"
      ]
     },
     "metadata": {
      "needs_background": "light"
     },
     "output_type": "display_data"
    }
   ],
   "source": [
    "plt.figure(figsize=(18, 8))\n",
    "created_hist.plot(kind='bar', log=True)\n",
    "plt.gca().xaxis.set_major_formatter(FuncFormatter(lambda y, _: created_hist.index[y].strftime('%Y-%m')))"
   ]
  },
  {
   "cell_type": "code",
   "execution_count": 20,
   "metadata": {},
   "outputs": [
    {
     "data": {
      "image/png": "[encoded data removed]",
      "text/plain": [
       "<Figure size 1296x576 with 1 Axes>"
      ]
     },
     "metadata": {
      "needs_background": "light"
     },
     "output_type": "display_data"
    }
   ],
   "source": [
    "plt.figure(figsize=(18, 8))\n",
    "created_hist = videos_hitormiss.resample('M')['share_id'].count()\n",
    "created_hist.plot(kind='bar')\n",
    "plt.title('hit or miss time histogram')\n",
    "plt.gca().xaxis.set_major_formatter(FuncFormatter(lambda y, _: created_hist.index[y].strftime('%Y-%m')))\n",
    "plt.savefig('time-hitormiss-histogram.png')\n",
    "plt.show()"
   ]
  },
  {
   "cell_type": "code",
   "execution_count": 14,
   "metadata": {},
   "outputs": [
    {
     "data": {
      "image/png": "[encoded data removed]",
      "text/plain": [
       "<Figure size 1296x576 with 1 Axes>"
      ]
     },
     "metadata": {
      "needs_background": "light"
     },
     "output_type": "display_data"
    }
   ],
   "source": [
    "plt.figure(figsize=(18, 8))\n",
    "tag_labels = get_ahegao_hashtags()\n",
    "videos_ahegao['tag_id'].value_counts().plot(kind='bar')\n",
    "plt.gca().set_xticklabels(tag_labels.values(), rotation=0)\n",
    "plt.savefig('hashtag-histogram.png')\n",
    "plt.show()"
   ]
  },
  {
   "cell_type": "code",
   "execution_count": 15,
   "metadata": {},
   "outputs": [
    {
     "data": {
      "image/png": "[encoded data removed]",
      "text/plain": [
       "<Figure size 1296x576 with 1 Axes>"
      ]
     },
     "metadata": {
      "needs_background": "light"
     },
     "output_type": "display_data"
    }
   ],
   "source": [
    "plt.figure(figsize=(18, 8))\n",
    "tag_labels = {**get_ahegao_hashtags(), **get_hitormiss_hashtags()}\n",
    "videos['tag_id'].value_counts().plot(kind='bar')\n",
    "plt.gca().set_xticklabels(tag_labels.values(), rotation=0)\n",
    "plt.savefig('hashtag-histogram.png')\n",
    "plt.show()"
   ]
  },
  {
   "cell_type": "code",
   "execution_count": 16,
   "metadata": {},
   "outputs": [
    {
     "data": {
      "image/png": "[encoded data removed]",
      "text/plain": [
       "<Figure size 1296x576 with 1 Axes>"
      ]
     },
     "metadata": {
      "needs_background": "light"
     },
     "output_type": "display_data"
    }
   ],
   "source": [
    "plt.figure(figsize=(18, 8))\n",
    "videos_hist = videos['tag_id'].value_counts()\n",
    "videos_hist.index = videos_hist.index.map(tag_labels)\n",
    "videos_hist.plot(kind='bar')\n",
    "plt.xticks(rotation=0)\n",
    "plt.savefig('hashtags-all-histogram.png')\n",
    "plt.show()"
   ]
  },
  {
   "cell_type": "code",
   "execution_count": 17,
   "metadata": {},
   "outputs": [
    {
     "data": {
      "image/png": "[encoded data removed]",
      "text/plain": [
       "<Figure size 1296x576 with 1 Axes>"
      ]
     },
     "metadata": {
      "needs_background": "light"
     },
     "output_type": "display_data"
    }
   ],
   "source": [
    "plt.figure(figsize=(18, 8))\n",
    "videos_hist = videos_ahegao['tag_id'].value_counts()\n",
    "videos_hist.index = videos_hist.index.map(tag_labels)\n",
    "videos_hist.plot(kind='bar')\n",
    "plt.xticks(rotation=0)\n",
    "plt.savefig('hashtag-histogram.png')\n",
    "plt.show()"
   ]
  },
  {
   "cell_type": "code",
   "execution_count": 18,
   "metadata": {},
   "outputs": [
    {
     "data": {
      "text/plain": [
       "(Index(['aheagaoface', 'ahego', 'aheago', 'ahegao', 'ahegaho', 'aheagoface',\n",
       "        'ahegoface', 'aheagao', 'ahegaoface'],\n",
       "       dtype='object'),\n",
       " Index(['1887884', '1615419720169494', '29504659', '73193535', '21369576',\n",
       "        '2128154', '1614591578030086', '1607073744304130', '1608178707908613',\n",
       "        '1618165477879878', '30055085'],\n",
       "       dtype='object'))"
      ]
     },
     "execution_count": 18,
     "metadata": {},
     "output_type": "execute_result"
    }
   ],
   "source": [
    "videos_hist.index, videos['tag_id'].value_counts().index"
   ]
  },
  {
   "cell_type": "code",
   "execution_count": 19,
   "metadata": {},
   "outputs": [
    {
     "data": {
      "text/plain": [
       "aheagaoface    1100\n",
       "ahego          1079\n",
       "aheago          943\n",
       "ahegao          543\n",
       "ahegaho         360\n",
       "aheagoface      260\n",
       "ahegoface       128\n",
       "aheagao          94\n",
       "ahegaoface       45\n",
       "Name: tag_id, dtype: int64"
      ]
     },
     "execution_count": 19,
     "metadata": {},
     "output_type": "execute_result"
    }
   ],
   "source": [
    "videos_hist"
   ]
  },
  {
   "cell_type": "code",
   "execution_count": 21,
   "metadata": {},
   "outputs": [
    {
     "data": {
      "text/plain": [
       "0.2193053311793215"
      ]
     },
     "execution_count": 21,
     "metadata": {},
     "output_type": "execute_result"
    }
   ],
   "source": [
    "543/(1079+943+360+94)"
   ]
  }
 ],
 "metadata": {
  "kernelspec": {
   "display_name": "Python 3",
   "language": "python",
   "name": "python3"
  },
  "language_info": {
   "codemirror_mode": {
    "name": "ipython",
    "version": 3
   },
   "file_extension": ".py",
   "mimetype": "text/x-python",
   "name": "python",
   "nbconvert_exporter": "python",
   "pygments_lexer": "ipython3",
   "version": "3.6.8"
  }
 },
 "nbformat": 4,
 "nbformat_minor": 2
}
